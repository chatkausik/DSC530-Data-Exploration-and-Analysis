{
 "cells": [
  {
   "cell_type": "markdown",
   "id": "067fd8ea",
   "metadata": {},
   "source": [
    "**DSC530 Week 2 Assignments**\n",
    "\n",
    "**Kausik Chattapadhyay**\n",
    "\n",
    "**Date: 12/06/2022**\n",
    "\n",
    "1. Display the text “Hello World! My name is ....\"\n",
    "2. Add two numbers together\n",
    "3. Subtract a number from another number\n",
    "4. Multiply two numbers\n",
    "5. Divide between two numbers\n",
    "6. Concatenate two strings together (any words)\n",
    "7. Create a list of 4 items (can be strings, numbers, both)\n",
    "8. Append an item to your list (again, can be a string, number)\n",
    "9. Create a tuple with 4 items (can be strings, numbers, both)"
   ]
  },
  {
   "cell_type": "code",
   "execution_count": 1,
   "id": "f854b2d2",
   "metadata": {},
   "outputs": [
    {
     "data": {
      "text/plain": [
       "'Hello World! My name is Kausik Chattapadhyay.'"
      ]
     },
     "metadata": {},
     "output_type": "display_data"
    }
   ],
   "source": [
    "# Display the text “Hello World! My name is ....\"\n",
    "name = \"Kausik Chattapadhyay\"\n",
    "display(f\"Hello World! My name is {name}.\")"
   ]
  },
  {
   "cell_type": "code",
   "execution_count": 2,
   "id": "8d5d3e5f",
   "metadata": {},
   "outputs": [
    {
     "data": {
      "text/plain": [
       "90"
      ]
     },
     "execution_count": 2,
     "metadata": {},
     "output_type": "execute_result"
    }
   ],
   "source": [
    "# Add two numbers together\n",
    "\n",
    "23 + 67"
   ]
  },
  {
   "cell_type": "code",
   "execution_count": 3,
   "id": "b473f2d6",
   "metadata": {},
   "outputs": [
    {
     "data": {
      "text/plain": [
       "53"
      ]
     },
     "execution_count": 3,
     "metadata": {},
     "output_type": "execute_result"
    }
   ],
   "source": [
    "# Subtract a number from another number\n",
    "\n",
    "98 - 45"
   ]
  },
  {
   "cell_type": "code",
   "execution_count": 4,
   "id": "d23f2821",
   "metadata": {},
   "outputs": [
    {
     "data": {
      "text/plain": [
       "11730"
      ]
     },
     "execution_count": 4,
     "metadata": {},
     "output_type": "execute_result"
    }
   ],
   "source": [
    "# Multiply two numbers\n",
    "345 * 34"
   ]
  },
  {
   "cell_type": "code",
   "execution_count": 5,
   "id": "069785d3",
   "metadata": {},
   "outputs": [
    {
     "data": {
      "text/plain": [
       "274348.4"
      ]
     },
     "execution_count": 5,
     "metadata": {},
     "output_type": "execute_result"
    }
   ],
   "source": [
    "# Divide between two numbers\n",
    "\n",
    "12345678 / 45"
   ]
  },
  {
   "cell_type": "code",
   "execution_count": 11,
   "id": "b6084ccf",
   "metadata": {},
   "outputs": [
    {
     "name": "stdout",
     "output_type": "stream",
     "text": [
      "Hello World!\n",
      "HelloWorld!\n"
     ]
    }
   ],
   "source": [
    "# Concatenate two strings together (any words)\n",
    "\n",
    "str1 = \"Hello\"\n",
    "str2 = \"World!\"\n",
    "\n",
    "print(\" \".join([str1, str2]))\n",
    "\n",
    "print(str1 + str2)"
   ]
  },
  {
   "cell_type": "code",
   "execution_count": 22,
   "id": "a9367f06",
   "metadata": {},
   "outputs": [
    {
     "name": "stdout",
     "output_type": "stream",
     "text": [
      "<class 'list'>\n"
     ]
    },
    {
     "data": {
      "text/plain": [
       "['abc', 12, 34.45, True]"
      ]
     },
     "execution_count": 22,
     "metadata": {},
     "output_type": "execute_result"
    }
   ],
   "source": [
    "# Create a list of 4 items (can be strings, numbers, both)\n",
    "\n",
    "my_list = [\"abc\", 12, 34.45, True]\n",
    "print(type(my_list))\n",
    "my_list"
   ]
  },
  {
   "cell_type": "code",
   "execution_count": 23,
   "id": "df50084a",
   "metadata": {},
   "outputs": [
    {
     "data": {
      "text/plain": [
       "['abc', 12, 34.45, True, [1, 2, 3, 4]]"
      ]
     },
     "execution_count": 23,
     "metadata": {},
     "output_type": "execute_result"
    }
   ],
   "source": [
    "# Append an item to your list (again, can be a string, number)\n",
    "\n",
    "item = [1, 2, 3, 4]\n",
    "\n",
    "my_list.append(item)\n",
    "my_list"
   ]
  },
  {
   "cell_type": "code",
   "execution_count": 24,
   "id": "ab4a6452",
   "metadata": {},
   "outputs": [
    {
     "name": "stdout",
     "output_type": "stream",
     "text": [
      "<class 'tuple'>\n"
     ]
    },
    {
     "data": {
      "text/plain": [
       "('cab', 12, 34.45, True)"
      ]
     },
     "execution_count": 24,
     "metadata": {},
     "output_type": "execute_result"
    }
   ],
   "source": [
    "# Create a tuple with 4 items (can be strings, numbers, both)\n",
    "\n",
    "my_tuple = (\"cab\", 12, 34.45, True)\n",
    "print(type(my_tuple))\n",
    "my_tuple"
   ]
  },
  {
   "cell_type": "code",
   "execution_count": null,
   "id": "67764ede",
   "metadata": {},
   "outputs": [],
   "source": []
  }
 ],
 "metadata": {
  "kernelspec": {
   "display_name": "Python 3 (ipykernel)",
   "language": "python",
   "name": "python3"
  },
  "language_info": {
   "codemirror_mode": {
    "name": "ipython",
    "version": 3
   },
   "file_extension": ".py",
   "mimetype": "text/x-python",
   "name": "python",
   "nbconvert_exporter": "python",
   "pygments_lexer": "ipython3",
   "version": "3.9.13"
  }
 },
 "nbformat": 4,
 "nbformat_minor": 5
}
